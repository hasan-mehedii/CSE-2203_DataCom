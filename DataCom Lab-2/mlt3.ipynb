{
 "cells": [
  {
   "cell_type": "code",
   "execution_count": 1,
   "id": "cba247b7",
   "metadata": {},
   "outputs": [],
   "source": [
    "import matplotlib.pyplot as plt"
   ]
  },
  {
   "cell_type": "code",
   "execution_count": 2,
   "id": "baaee369",
   "metadata": {},
   "outputs": [],
   "source": [
    "def mll_encode(bin_str):\n",
    "  volt_level = []\n",
    "  index = 0\n",
    "  for bs in bin_str:\n",
    "    if bs == '0':\n",
    "      if volt_level:\n",
    "        volt_level.append(volt_level[-1])\n",
    "      else:\n",
    "        volt_level.append(0)\n",
    "    elif bs == '1':\n",
    "      if index % 4 == 0:\n",
    "        volt_level.append(1)\n",
    "        index += 1\n",
    "      elif index % 2 == 1:\n",
    "        volt_level.append(0)\n",
    "        index += 1\n",
    "      elif index % 2 == 0:\n",
    "        volt_level.append(-1)\n",
    "        index += 1\n",
    "    else: \n",
    "      print(\"error\")\n",
    "  return volt_level "
   ]
  },
  {
   "cell_type": "code",
   "execution_count": 3,
   "id": "cb378032",
   "metadata": {},
   "outputs": [],
   "source": [
    "def mll_decode(encoded_signal):\n",
    "    decoded = []\n",
    "    previous_signal = encoded_signal[0]\n",
    "    if previous_signal == 0:\n",
    "        decoded.append('0')\n",
    "    else:\n",
    "        decoded.append('1')\n",
    "    for signal in encoded_signal[1:]:\n",
    "        if signal == previous_signal:\n",
    "            decoded.append('0')\n",
    "        else:\n",
    "            decoded.append('1')\n",
    "        previous_signal = signal\n",
    "    return \"\".join(decoded)"
   ]
  },
  {
   "cell_type": "code",
   "execution_count": 4,
   "id": "b6d598fc",
   "metadata": {},
   "outputs": [],
   "source": [
    "def plot_signal(encoded_list):\n",
    "  time = list(range(len(encoded_list) + 1))\n",
    "  signal = [encoded_list[0]] + encoded_list\n",
    "  plt.step(time, signal, where='post')\n",
    "  plt.ylim(-2, 2)\n",
    "  plt.xlabel('Time')\n",
    "  plt.ylabel('Voltage Level')\n",
    "  plt.title('MLL Encoding Signal')\n",
    "  plt.grid(True)\n",
    "  plt.show()"
   ]
  },
  {
   "cell_type": "code",
   "execution_count": 5,
   "id": "ba24694e",
   "metadata": {},
   "outputs": [],
   "source": [
    "input_str = input()"
   ]
  },
  {
   "cell_type": "code",
   "execution_count": 6,
   "id": "8b9d28c9",
   "metadata": {},
   "outputs": [
    {
     "name": "stdout",
     "output_type": "stream",
     "text": [
      "[1, 0, 0, 0, -1, -1, 0]\n"
     ]
    },
    {
     "data": {
      "image/png": "[encoded data removed]",
      "text/plain": [
       "<Figure size 640x480 with 1 Axes>"
      ]
     },
     "metadata": {},
     "output_type": "display_data"
    }
   ],
   "source": [
    "en = mll_encode(input_str)\n",
    "print(en)\n",
    "plot_signal(en)"
   ]
  },
  {
   "cell_type": "code",
   "execution_count": 7,
   "id": "3862e840",
   "metadata": {},
   "outputs": [
    {
     "name": "stdout",
     "output_type": "stream",
     "text": [
      "1100101\n"
     ]
    }
   ],
   "source": [
    "dc = mll_decode(en)\n",
    "print(dc)"
   ]
  }
 ],
 "metadata": {
  "kernelspec": {
   "display_name": "Python 3",
   "language": "python",
   "name": "python3"
  },
  "language_info": {
   "codemirror_mode": {
    "name": "ipython",
    "version": 3
   },
   "file_extension": ".py",
   "mimetype": "text/x-python",
   "name": "python",
   "nbconvert_exporter": "python",
   "pygments_lexer": "ipython3",
   "version": "3.11.9"
  }
 },
 "nbformat": 4,
 "nbformat_minor": 5
}
